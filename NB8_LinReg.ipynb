{
 "cells": [
  {
   "cell_type": "markdown",
   "metadata": {},
   "source": [
    "# 8. Linear Regression\n",
    "\n",
    "In this lab, you simply need to run the code below in order to understand how to utilize linear regression under various python libraries.  There is only a simple task at the end of the notebook"
   ]
  },
  {
   "cell_type": "code",
   "execution_count": 1,
   "metadata": {},
   "outputs": [],
   "source": [
    "from sklearn import datasets, linear_model\n",
    "import numpy as np\n",
    "#load the data: we are utilizing data from the diabetes dataset\n",
    "\n",
    "# Load the diabetes dataset (description here http://scikit-learn.org/stable/datasets/index.html#diabetes-dataset)\n",
    "diabetes = datasets.load_diabetes()\n",
    "\n",
    "# Use only one feature\n",
    "diabetes_X = diabetes.data[:, np.newaxis, 2]\n",
    "\n",
    "# Split the data into training/testing sets\n",
    "X_train = diabetes_X[:-20]\n",
    "X_test = diabetes_X[-20:]\n",
    "\n",
    "# Split the targets into training/testing sets\n",
    "y_train = diabetes.target[:-20]\n",
    "y_test = diabetes.target[-20:]"
   ]
  },
  {
   "cell_type": "markdown",
   "metadata": {
    "collapsed": true
   },
   "source": [
    "### 8.1 Linear Regression with scikit-learn\n",
    "Go through the code below and then run the cell to perform linear regression with scikit-learn"
   ]
  },
  {
   "cell_type": "code",
   "execution_count": 5,
   "metadata": {},
   "outputs": [
    {
     "name": "stdout",
     "output_type": "stream",
     "text": [
      "Mean squared error: 2548.07\n"
     ]
    },
    {
     "data": {
      "image/png": "[encoded data removed]",
      "text/plain": [
       "<matplotlib.figure.Figure at 0x10e359518>"
      ]
     },
     "metadata": {},
     "output_type": "display_data"
    }
   ],
   "source": [
    "import matplotlib.pyplot as plt\n",
    "from sklearn.metrics import mean_squared_error\n",
    "\n",
    "\n",
    "# create a linear regression model\n",
    "linreg = linear_model.LinearRegression()\n",
    "\n",
    "# Train using training set\n",
    "linreg.fit(X_train, y_train)\n",
    "\n",
    "# Predict using test set\n",
    "y_pred = linreg.predict(X_test)\n",
    "\n",
    "\n",
    "# Error\n",
    "print(\"Mean squared error: %.2f\" % mean_squared_error(y_test, y_pred))\n",
    "\n",
    "# Plot outputs\n",
    "plt.plot(X_test, y_pred)\n",
    "plt.scatter(X_test, y_pred,  color='black')\n",
    "\n",
    "plt.show()"
   ]
  },
  {
   "cell_type": "markdown",
   "metadata": {},
   "source": [
    "# 8.2 Linear Regression with  normal equations\n",
    "\n",
    "** Task: ** Copy the python code describing the normal equations solution to linear regression from slide 42 in the second linear regression lecture here: https://learn.gold.ac.uk/pluginfile.php/743910/course/section/122087/ML_GS_LinRegII.pdf.  Paste it in the cell below.  What do you observe?\n"
   ]
  },
  {
   "cell_type": "code",
   "execution_count": 3,
   "metadata": {},
   "outputs": [
    {
     "name": "stdout",
     "output_type": "stream",
     "text": [
      "[[ 1.1]\n",
      " [ 2.1]\n",
      " [ 3.1]]\n",
      "[[ 1.1]\n",
      " [ 2.1]\n",
      " [ 3.1]]\n"
     ]
    }
   ],
   "source": [
    "import numpy as np\n",
    "X = np.array([ [1, 2, 3], [1, 0, 1], [1, 1, 0] ])\n",
    "y = np.array([ [1.1], [2.1], [3.1] ])\n",
    "# normal equation:\n",
    "theta = np.linalg.pinv(X.transpose().dot(X)).dot(X.transpose()).dot(y) # is y actually equal to X times theta ?\n",
    "print(X.dot(theta))\n",
    "print(y)"
   ]
  }
 ],
 "metadata": {
  "kernelspec": {
   "display_name": "Python 3",
   "language": "python",
   "name": "python3"
  },
  "language_info": {
   "codemirror_mode": {
    "name": "ipython",
    "version": 3
   },
   "file_extension": ".py",
   "mimetype": "text/x-python",
   "name": "python",
   "nbconvert_exporter": "python",
   "pygments_lexer": "ipython3",
   "version": "3.5.4"
  }
 },
 "nbformat": 4,
 "nbformat_minor": 2
}
