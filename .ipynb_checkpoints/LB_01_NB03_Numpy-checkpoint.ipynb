{
 "cells": [
  {
   "cell_type": "markdown",
   "metadata": {},
   "source": [
    "# 3. Introduction to numpy\n",
    "\n",
    "\n",
    "**Instructions:**\n",
    "* go through the notebook and complete the **tasks** .  \n",
    "* Make sure you understand the examples given!\n",
    "* ** Save your notebooks when you are done! **\n",
    "\n",
    "Note that we use the import keyword to import modules and libraries in Python (more <a href=\"https://docs.python.org/3/tutorial/modules.html\">here</a>)\n",
    "\n",
    "See details on documentation / resources here:\n",
    "https://learn.gold.ac.uk/mod/page/view.php?id=487982"
   ]
  },
  {
   "cell_type": "code",
   "execution_count": 4,
   "metadata": {
    "collapsed": true
   },
   "outputs": [],
   "source": [
    "import numpy as np"
   ]
  },
  {
   "cell_type": "markdown",
   "metadata": {
    "collapsed": true
   },
   "source": [
    "## 3.2 Numpy Arrays\n",
    "Numpy ndarrays are a fundamental structure for ML in python.\n",
    "\n",
    "\n",
    "### 3.2.1 Usage Examples\n",
    "\n",
    "** Create numpy array from list **\n",
    "\n",
    "    data1D = [6, 7, 8]\n",
    "    data1DnD = np.array(data1D)\n",
    "    print(data1D)\n",
    "    print(data1DnD)\n",
    "   \n",
    "\n",
    "** print useful properties of our array **\n",
    "\n",
    "    print(data1DnD.shape)\n",
    "    print(data1DnD.ndim)\n",
    "    print(data1DnD.dtype)\n",
    "    \n",
    "    \n",
    "** change type of elements **\n",
    "\n",
    "    data1DnD_float = data1DnD.astype(np.float)\n",
    "    data1DnD_string = data1DnD.astype(np.string_)\n",
    "   \n",
    "    \n",
    "** array indexing **\n",
    "\n",
    "    print(a[0])   #return the first element of ndarray a\n",
    "    print(a[:])   #return all the elements of ndarray a\n",
    "    print(a[-1])  #return the last element of ndarray a\n",
    "    print(a[:-1]) #return everything up to the last element\n",
    "    print(a[:-2]) #return everything up to the second last element\n",
    "    print(a[-2])  #return the second last element\n",
    "\n",
    "** various ways of creating an ndarray **\n",
    "\n",
    "    a = np.array([1, 2, 3])\n",
    "    b = np.zeros((1,5))              # Create an array of all zeros\n",
    "    c = np.ones((1,5))               # Create an array of all ones\n",
    "    d = np.full((1,5), 7)            # Create an array filled with value 7\n",
    "    e = np.random.random((1,4))      # Create an array filled with random values\n",
    "    f = np.eye(3)                    # Create a 3x3 identity matrix (2D array)\n",
    "    g = np.ones((3,3,3))             # 3-Dimensional array\n",
    "    \n",
    "** generalization to n-dimensional arrays **\n",
    "\n",
    "    A=np.array([ [1,2], [3,4] ])     # Create a 2-D array (Matrix)\n",
    "    print(A[0,1])                    # return the element on first column, second row (0,1)=2\n",
    "                                     # array indexing works as above\n",
    "    \n",
    "\n",
    "** reshaping **\n",
    "\n",
    "    We can reshape a vector (e.g., v=[v1,v2,...vN]) to a matrix of N1, N2 dimensions (where N1xN2 = N)\n",
    "    This is very useful for plotting images.  For 2 dimensions, the related numpy method is np.reshape(ndarray, [dim1, dim2])\n",
    "<hr>"
   ]
  },
  {
   "cell_type": "markdown",
   "metadata": {},
   "source": [
    "<span style=\"color:rgb(170,0,0)\">**Task:**</span>\n",
    "- Go through the examples above, pasting the code given in the empty cell below and verifying the results.  \n",
    "- Make sure you understand what this basic code does (numpy documentation <a href=\"http://docs.scipy.org/doc/numpy/reference/generated/numpy.ndarray.html\">here</a>)"
   ]
  },
  {
   "cell_type": "code",
   "execution_count": 12,
   "metadata": {},
   "outputs": [
    {
     "name": "stdout",
     "output_type": "stream",
     "text": [
      "[6, 7, 8]\n",
      "[6 7 8]\n",
      "(3,)\n",
      "1\n",
      "int32\n",
      "6\n",
      "[6 7 8]\n",
      "8\n",
      "[6 7]\n",
      "[6]\n",
      "7\n",
      "[[ 0.  0.  0.  0.  0.]\n",
      " [ 0.  0.  0.  0.  0.]\n",
      " [ 0.  0.  0.  0.  0.]]\n"
     ]
    }
   ],
   "source": [
    "import numpy as np\n",
    "\n",
    "data1D=[6,7,8]\n",
    "data1DnD=np.array(data1D)\n",
    "print(data1D)\n",
    "print(data1DnD)\n",
    "\n",
    "print(data1DnD.shape)\n",
    "print(data1DnD.ndim)\n",
    "print(data1DnD.dtype)\n",
    "\n",
    "data1DnD_asfloat=data1DnD.astype(np.float)\n",
    "data1DnD_asstring=data1DnD.astype(np.string_)\n",
    "\n",
    "print (data1DnD[0])\n",
    "print (data1DnD[:])\n",
    "print (data1DnD[-1])\n",
    "print (data1DnD[:-1])\n",
    "print (data1DnD[:-2])\n",
    "print (data1DnD[-2])\n",
    "\n",
    "a=np.array([1,2,3])\n",
    "b=np.zeros((3,5))\n",
    "print (b[:])"
   ]
  },
  {
   "cell_type": "markdown",
   "metadata": {},
   "source": [
    "<span style=\"color:rgb(170,0,0)\">**Task:**</span> In the empty cell below,  create an np array called L consisting of 15 random elements"
   ]
  },
  {
   "cell_type": "code",
   "execution_count": 16,
   "metadata": {},
   "outputs": [
    {
     "name": "stdout",
     "output_type": "stream",
     "text": [
      "[ 0.30330805  0.83513784  0.33670334  0.63073563  0.38148769  0.13915502\n",
      "  0.51997095  0.00537955  0.97673703  0.39704495  0.39075566  0.0476382\n",
      "  0.5262827   0.68436454  0.40011967]\n"
     ]
    }
   ],
   "source": [
    "L=np.random.random(15)\n",
    "\n",
    "print (L[:])"
   ]
  },
  {
   "cell_type": "markdown",
   "metadata": {},
   "source": [
    "<span style=\"color:rgb(170,0,0)\">**Task:**</span> Reshape the array L to a matrix A that has 5 rows and 3 columns.  Print the matrix to verify the result."
   ]
  },
  {
   "cell_type": "code",
   "execution_count": 17,
   "metadata": {},
   "outputs": [
    {
     "name": "stdout",
     "output_type": "stream",
     "text": [
      "[[ 0.30330805  0.83513784  0.33670334]\n",
      " [ 0.63073563  0.38148769  0.13915502]\n",
      " [ 0.51997095  0.00537955  0.97673703]\n",
      " [ 0.39704495  0.39075566  0.0476382 ]\n",
      " [ 0.5262827   0.68436454  0.40011967]]\n"
     ]
    }
   ],
   "source": [
    "A=np.reshape(L, [5,3])\n",
    "print (A[:])"
   ]
  },
  {
   "cell_type": "markdown",
   "metadata": {},
   "source": [
    "<span style=\"color:rgb(170,0,0)\">**Task:**</span> Reshape matrix A to a matrix B that has 3 rows and 5 columns.  Then, print the elements in row 0 and 1 only."
   ]
  },
  {
   "cell_type": "code",
   "execution_count": 19,
   "metadata": {},
   "outputs": [
    {
     "name": "stdout",
     "output_type": "stream",
     "text": [
      "[[ 0.30330805  0.83513784  0.33670334  0.63073563  0.38148769]\n",
      " [ 0.13915502  0.51997095  0.00537955  0.97673703  0.39704495]\n",
      " [ 0.39075566  0.0476382   0.5262827   0.68436454  0.40011967]]\n"
     ]
    }
   ],
   "source": [
    "B=np.reshape(A,[3,5])\n",
    "print (B[:])"
   ]
  },
  {
   "cell_type": "markdown",
   "metadata": {},
   "source": [
    "<span style=\"color:rgb(170,0,0)\">**Task:**</span> Print all elements of B that are in row 0 and 2 **and** column 1"
   ]
  },
  {
   "cell_type": "code",
   "execution_count": 20,
   "metadata": {},
   "outputs": [
    {
     "name": "stdout",
     "output_type": "stream",
     "text": [
      "[ 0.30330805  0.83513784  0.33670334  0.63073563  0.38148769]\n",
      "[ 0.39075566  0.0476382   0.5262827   0.68436454  0.40011967]\n",
      "[ 0.83513784  0.51997095  0.0476382 ]\n"
     ]
    }
   ],
   "source": [
    "print (B[0,:])\n",
    "print (B[2,:])\n",
    "print (B[:,1])"
   ]
  },
  {
   "cell_type": "markdown",
   "metadata": {},
   "source": [
    "<span style=\"color:rgb(170,0,0)\">**Task:**</span> Print all elements of A that are in the last row (see the [-1] notation above) and second to last column.  "
   ]
  },
  {
   "cell_type": "code",
   "execution_count": 21,
   "metadata": {},
   "outputs": [
    {
     "name": "stdout",
     "output_type": "stream",
     "text": [
      "[ 0.5262827   0.68436454  0.40011967]\n",
      "[ 0.83513784  0.38148769  0.00537955  0.39075566  0.68436454]\n"
     ]
    }
   ],
   "source": [
    "print (A[-1,:])\n",
    "print (A[:,-2])"
   ]
  },
  {
   "cell_type": "markdown",
   "metadata": {},
   "source": [
    "<span style=\"color:rgb(170,0,0)\">**Task:**</span> Given the array Y below, find all **indices** in the array that are equal to the value 1.  Use the numpy function ``where`` to do that . Your final output should look like this: ``[1, 3, 4, 7]``.\n",
    "\n",
    "documentation: https://docs.scipy.org/doc/numpy-1.13.0/reference/generated/numpy.where.html"
   ]
  },
  {
   "cell_type": "code",
   "execution_count": 60,
   "metadata": {},
   "outputs": [
    {
     "name": "stdout",
     "output_type": "stream",
     "text": [
      "[1 3 4 7]\n"
     ]
    }
   ],
   "source": [
    "Y=np.array([0, 1, 0, 1,1, 2,0,1,0])\n",
    "\n",
    "res=np.where((Y==1))[0]\n",
    "\n",
    "print (res[:])"
   ]
  },
  {
   "cell_type": "markdown",
   "metadata": {},
   "source": [
    "<span style=\"color:rgb(170,0,0)\">**Task:**</span> Split the array Y defined above into three arrays by using the numpy function ``array_split``.  Print to verify.\n",
    "\n",
    "Documentation: https://docs.scipy.org/doc/numpy-1.13.0/reference/generated/numpy.array_split.html. "
   ]
  },
  {
   "cell_type": "code",
   "execution_count": 51,
   "metadata": {},
   "outputs": [
    {
     "name": "stdout",
     "output_type": "stream",
     "text": [
      "[array([0, 1, 0]), array([1, 1, 2]), array([0, 1, 0])]\n"
     ]
    }
   ],
   "source": [
    "res=np.array_split(Y,3)\n",
    "\n",
    "print (res[:])"
   ]
  },
  {
   "cell_type": "markdown",
   "metadata": {},
   "source": [
    "<span style=\"color:rgb(170,0,0)\">**Task:**</span> Given the array D defined below, find the **indices** that sort the array.  Use the numpy function ``argsort`` in order to do so.  Subsequently, print the sorted array.  Final output should look like this:\n",
    "``\n",
    "[ 0  1  2  5  9 10 20]\n",
    "``"
   ]
  },
  {
   "cell_type": "code",
   "execution_count": 43,
   "metadata": {},
   "outputs": [
    {
     "name": "stdout",
     "output_type": "stream",
     "text": [
      "[5 6 2 1 3 0 4]\n"
     ]
    }
   ],
   "source": [
    "D=np.array([10,5,2,9,20,0,1])\n",
    "\n",
    "E=np.argsort(D)\n",
    "\n",
    "print (E[:])"
   ]
  },
  {
   "cell_type": "markdown",
   "metadata": {},
   "source": [
    "<span style=\"color:rgb(170,0,0)\">**Task:**</span> Create two random 2x2 matrices X and Y (2 rows, 2 columns).  Use the numpy function ``concatenate`` in order to concatenate them and create a matrix Z that has dimensions 4x2 and a matrix W that has dimensions 2x4\n",
    "\n",
    "documentation: https://docs.scipy.org/doc/numpy-1.13.0/reference/generated/numpy.concatenate.html"
   ]
  },
  {
   "cell_type": "code",
   "execution_count": 62,
   "metadata": {
    "scrolled": true
   },
   "outputs": [
    {
     "name": "stdout",
     "output_type": "stream",
     "text": [
      "[[ 0.14505339  0.06324067]\n",
      " [ 0.6481701   0.22928572]\n",
      " [ 0.18228636  0.38455165]\n",
      " [ 0.62639747  0.51514233]]\n",
      "[[ 0.14505339  0.06324067  0.18228636  0.38455165]\n",
      " [ 0.6481701   0.22928572  0.62639747  0.51514233]]\n"
     ]
    }
   ],
   "source": [
    "X=np.random.random((2,2))\n",
    "Y=np.random.random((2,2))\n",
    "\n",
    "Z=np.concatenate((X,Y),0)\n",
    "print (Z[:])\n",
    "\n",
    "W=np.concatenate((X,Y),1)\n",
    "print (W[:])\n"
   ]
  },
  {
   "cell_type": "markdown",
   "metadata": {},
   "source": [
    "<span style=\"color:rgb(170,0,0)\">**Task:**</span> Create the same matrices Z2=Z and W2=W (where Z and W are as defined above), but this time use the numpy functions ``hstack`` and ``vstack``\n",
    "\n",
    "Documentation:\n",
    "\n",
    "https://docs.scipy.org/doc/numpy-1.13.0/reference/generated/numpy.hstack.html#numpy.hstack\n",
    "\n",
    "https://docs.scipy.org/doc/numpy-1.13.0/reference/generated/numpy.vstack.html#numpy.vstack"
   ]
  },
  {
   "cell_type": "code",
   "execution_count": 64,
   "metadata": {},
   "outputs": [
    {
     "name": "stdout",
     "output_type": "stream",
     "text": [
      "[[ 0.14505339  0.06324067  0.18228636  0.38455165]\n",
      " [ 0.6481701   0.22928572  0.62639747  0.51514233]]\n",
      "[[ 0.14505339  0.06324067]\n",
      " [ 0.6481701   0.22928572]\n",
      " [ 0.18228636  0.38455165]\n",
      " [ 0.62639747  0.51514233]]\n"
     ]
    }
   ],
   "source": [
    "Z2=np.hstack([X,Y])\n",
    "print (Z2[:])\n",
    "W2=np.vstack([X,Y])\n",
    "print (W2[:])"
   ]
  },
  {
   "cell_type": "code",
   "execution_count": 7,
   "metadata": {},
   "outputs": [
    {
     "name": "stdout",
     "output_type": "stream",
     "text": [
      "[[ 0  1  2  3]\n",
      " [ 4  5  6  7]\n",
      " [ 8  9 10 11]\n",
      " [12 13 14 15]\n",
      " [16 17 18 19]\n",
      " [20 21 22 23]]\n"
     ]
    }
   ],
   "source": [
    "import numpy as np\n",
    "A = np.arange(24)\n",
    "A=A.reshape(6,4)\n",
    "print (A)"
   ]
  },
  {
   "cell_type": "code",
   "execution_count": null,
   "metadata": {
    "collapsed": true
   },
   "outputs": [],
   "source": []
  }
 ],
 "metadata": {
  "kernelspec": {
   "display_name": "Python 3",
   "language": "python",
   "name": "python3"
  },
  "language_info": {
   "codemirror_mode": {
    "name": "ipython",
    "version": 3
   },
   "file_extension": ".py",
   "mimetype": "text/x-python",
   "name": "python",
   "nbconvert_exporter": "python",
   "pygments_lexer": "ipython3",
   "version": "3.6.2"
  }
 },
 "nbformat": 4,
 "nbformat_minor": 1
}
