{
 "cells": [
  {
   "cell_type": "markdown",
   "metadata": {
    "collapsed": true
   },
   "source": [
    "# 3. More on Linear Algebra\n",
    "\n",
    "**Instructions:**\n",
    "* go through the notebook and complete the **tasks** .  \n",
    "* Make sure you understand the examples given!\n",
    "* When a question allows a free-form answer (e.g., ``what do you observe?``) create a new markdown cell below and answer the question in the notebook.\n",
    "* ** Save your notebooks when you are done! **\n",
    "\n",
    "See details on documentation / resources here:\n",
    "https://learn.gold.ac.uk/mod/page/view.php?id=487982"
   ]
  },
  {
   "cell_type": "markdown",
   "metadata": {},
   "source": [
    "<hr>\n",
    "<span style=\"color:rgb(170,0,0)\">**Task 1:**</span> Go through the tutorial on Linear Algebra in python here: http://ml-cheatsheet.readthedocs.io/en/latest/linear_algebra.html.\n",
    "\n",
    "Paste and run the code from the tutorial in the empty cell below (or create new empty cells below) to get more familiar with the material."
   ]
  },
  {
   "cell_type": "code",
   "execution_count": 10,
   "metadata": {},
   "outputs": [
    {
     "name": "stdout",
     "output_type": "stream",
     "text": [
      "[3 5 7]\n",
      "[-1 -1 -1]\n",
      "[ 0.5         0.66666667  0.75      ]\n",
      " \n",
      "20\n",
      " \n",
      "(2, 3)\n",
      "(1, 3)\n",
      " \n",
      "[[2 3]\n",
      " [4 5]]\n",
      " \n",
      "[[2 4]\n",
      " [6 8]]\n",
      "[[0 0]\n",
      " [0 0]]\n",
      " \n",
      "[[ 6 12]\n",
      " [10 18]]\n",
      " \n",
      "[[1 3]\n",
      " [2 4]]\n",
      " \n",
      "(1, 2)\n",
      "(2, 2)\n",
      " \n",
      "[[13 16]]\n",
      "(1, 2)\n",
      " \n",
      "[[ 3  4]\n",
      " [10 12]]\n",
      "[[ 3  8]\n",
      " [ 5 12]]\n",
      "[[2 3]\n",
      " [3 4]]\n"
     ]
    }
   ],
   "source": [
    "import numpy as np\n",
    "y = np.array([1,2,3])\n",
    "x = np.array([2,3,4])\n",
    "print (y + x) \n",
    "print (y - x)\n",
    "print (y / x)\n",
    "print (\" \")\n",
    "\n",
    "y = np.array([1,2,3])\n",
    "x = np.array([2,3,4])\n",
    "print (np.dot(y,x))\n",
    "print (\" \")\n",
    "\n",
    "a = np.array([[1,2,3],[4,5,6]])\n",
    "print (a.shape)\n",
    "b = np.array([[1,2,3]])\n",
    "print (b.shape)\n",
    "print (\" \")\n",
    "\n",
    "a = np.array(\n",
    "[[1,2],\n",
    " [3,4]])\n",
    "print(a + 1)\n",
    "print (\" \")\n",
    "\n",
    "a = np.array([[1,2],[3,4]])\n",
    "b = np.array([[1,2],[3,4]])\n",
    "\n",
    "print(a + b)\n",
    "print(a - b)\n",
    "print (\" \")\n",
    "\n",
    "a = np.array([[2,3],[2,3]])\n",
    "b = np.array([[3,4],[5,6]])\n",
    "\n",
    "# Uses python's multiply operator\n",
    "print (a * b)\n",
    "print(\" \")\n",
    "\n",
    "a = np.array([[1, 2],[3, 4]])\n",
    "print(a.T)\n",
    "print(\" \")\n",
    "\n",
    "a = np.array([[1, 2]])\n",
    "print(a.shape)\n",
    "b = np.array([[3, 4],[5, 6]])\n",
    "print(b.shape)\n",
    "print(\" \")\n",
    "\n",
    "# Multiply\n",
    "mm = np.dot(a,b)\n",
    "print(mm)\n",
    "print(mm.shape)\n",
    "print(\" \")\n",
    "\n",
    "a = np.array([[1],[2]])\n",
    "b = np.array([[3,4],[5,6]])\n",
    "c = np.array([[1,2]])\n",
    "\n",
    "# Same no. of rows\n",
    "# Different no. of columns\n",
    "# but a has one column so this works\n",
    "print(a * b)\n",
    "# Same no. of columns\n",
    "# Different no. of rows\n",
    "# but c has one row so this works\n",
    "print(b * c)\n",
    "# Different no. of columns\n",
    "# Different no. of rows\n",
    "# but both a and c meet the\n",
    "# size 1 requirement rule\n",
    "print(a + c)"
   ]
  },
  {
   "cell_type": "markdown",
   "metadata": {},
   "source": [
    "<span style=\"color:rgb(170,0,0)\">**Task 2:**</span> Create the following matrices:\n",
    "* $X=\\begin{bmatrix} 2 & 3 & 4 \\\\ 1 & 2 &3 \\end{bmatrix},Y=\\begin{bmatrix} 0 & 1 & 0 \\\\ 1 & 0 &0\\\\ 0 & 0 & 1 \\end{bmatrix}$\n",
    "* Multiply X with Y (Z1=X*Y=XY) and print the result.  What do you observe?\n",
    "* Multiply X with Y transpose (Z2=X*Y.T) and print the result.  What do you observe?\n",
    "* What can you tell about matrix Y, given Z1 and Z2?"
   ]
  },
  {
   "cell_type": "code",
   "execution_count": 13,
   "metadata": {},
   "outputs": [
    {
     "name": "stdout",
     "output_type": "stream",
     "text": [
      "[[2 3 4]\n",
      " [1 2 3]]\n",
      "[[0 1 0]\n",
      " [1 0 0]\n",
      " [0 0 1]]\n"
     ]
    }
   ],
   "source": [
    "X=np.array([[2,3,4],[1,2,3]])\n",
    "Y=np.array([[0,1,0],[1,0,0],[0,0,1]])\n",
    "print (X)\n",
    "print (Y)"
   ]
  },
  {
   "cell_type": "markdown",
   "metadata": {},
   "source": [
    "<span style=\"color:rgb(170,0,0)\">**Task 3:**</span> Create a 2x2 identity matrix I using the numpy function ``eye(dim)`` \n",
    "$$ I=\\begin{bmatrix} 1 & 0 \\\\ 0 & 1 \\end{bmatrix} $$"
   ]
  },
  {
   "cell_type": "code",
   "execution_count": 15,
   "metadata": {},
   "outputs": [
    {
     "name": "stdout",
     "output_type": "stream",
     "text": [
      "[[ 1.  0.]\n",
      " [ 0.  1.]]\n"
     ]
    }
   ],
   "source": [
    "I=np.eye(2,2)\n",
    "print (I)"
   ]
  },
  {
   "cell_type": "markdown",
   "metadata": {},
   "source": [
    "<span style=\"color:rgb(170,0,0)\">**Task 4:**</span> Multiply (using ``dot``) matrix I with the vector ``x`` defined below. Print the output.  What do you observe?\n",
    "$$  =Ix$$"
   ]
  },
  {
   "cell_type": "code",
   "execution_count": 16,
   "metadata": {},
   "outputs": [
    {
     "name": "stdout",
     "output_type": "stream",
     "text": [
      "[2 3]\n"
     ]
    }
   ],
   "source": [
    "x=np.array([2,3])\n",
    "np.dot(x,I)\n",
    "print(x)\n",
    "#Code here"
   ]
  },
  {
   "cell_type": "markdown",
   "metadata": {},
   "source": [
    "<span style=\"color:rgb(170,0,0)\">**Task 5:**</span> Multiply (using ``dot``) matrix I with the matrix ``X`` defined below. Print the output.  What do you observe? \n",
    "$$=IX$$"
   ]
  },
  {
   "cell_type": "code",
   "execution_count": 17,
   "metadata": {},
   "outputs": [
    {
     "name": "stdout",
     "output_type": "stream",
     "text": [
      "[[2 3]\n",
      " [4 5]]\n"
     ]
    }
   ],
   "source": [
    "X=np.array([[2,3],[4,5]])\n",
    "np.dot(X,I)\n",
    "print(X)\n",
    "#Code here"
   ]
  },
  {
   "cell_type": "markdown",
   "metadata": {},
   "source": [
    "<span style=\"color:rgb(170,0,0)\">**Task 6:**</span> Multiply (using ``dot``) matrix $X$ with the inverse matrix, $X^{-1}$ (use the numpy function ``linalg.inv`` to do so).  What do you observe? $=$XX^{-1}$$\n"
   ]
  },
  {
   "cell_type": "code",
   "execution_count": 21,
   "metadata": {},
   "outputs": [
    {
     "name": "stdout",
     "output_type": "stream",
     "text": [
      "[[1 2]\n",
      " [0 1]]\n",
      "[[ 1. -2.]\n",
      " [ 0.  1.]]\n",
      "[[ 1.  0.]\n",
      " [ 0.  1.]]\n"
     ]
    }
   ],
   "source": [
    "X=np.array([[1,2],[0,1]])\n",
    "X1=np.linalg.inv(X)\n",
    "print (X)\n",
    "print (X1)\n",
    "print (np.dot(X,X1))\n",
    "#Code here\n"
   ]
  },
  {
   "cell_type": "code",
   "execution_count": null,
   "metadata": {
    "collapsed": true
   },
   "outputs": [],
   "source": []
  }
 ],
 "metadata": {
  "kernelspec": {
   "display_name": "Python 3",
   "language": "python",
   "name": "python3"
  },
  "language_info": {
   "codemirror_mode": {
    "name": "ipython",
    "version": 3
   },
   "file_extension": ".py",
   "mimetype": "text/x-python",
   "name": "python",
   "nbconvert_exporter": "python",
   "pygments_lexer": "ipython3",
   "version": "3.6.2"
  }
 },
 "nbformat": 4,
 "nbformat_minor": 2
}
